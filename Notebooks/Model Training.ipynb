{
 "cells": [
  {
   "cell_type": "code",
   "execution_count": 42,
   "id": "f50c3d90",
   "metadata": {},
   "outputs": [],
   "source": [
    "import os\n",
    "import numpy as np\n",
    "import tensorflow as tf\n",
    "from collections import Counter\n",
    "from tensorflow.keras import layers, models\n",
    "from tensorflow.keras.layers import Dense, Dropout, BatchNormalization\n",
    "from tensorflow.keras.optimizers import Adam\n",
    "from tensorflow.keras.applications import VGG16\n",
    "from sklearn.model_selection import train_test_split\n",
    "from tensorflow.keras.callbacks import EarlyStopping\n",
    "from tensorflow.keras.preprocessing.image import ImageDataGenerator"
   ]
  },
  {
   "cell_type": "markdown",
   "id": "49c80b63",
   "metadata": {},
   "source": [
    "#### Image Labels fetching"
   ]
  },
  {
   "cell_type": "code",
   "execution_count": 26,
   "id": "6e2ea78d",
   "metadata": {},
   "outputs": [
    {
     "data": {
      "text/plain": [
       "Counter({'Batman': 155,\n",
       "         'Black Panther': 155,\n",
       "         'Black Widow': 154,\n",
       "         'Captain America': 154,\n",
       "         'Hulk': 154,\n",
       "         'Iron Man': 155,\n",
       "         'Spiderman': 154,\n",
       "         'Superman': 155,\n",
       "         'The Flash': 154,\n",
       "         'Wonder Woman': 155})"
      ]
     },
     "execution_count": 26,
     "metadata": {},
     "output_type": "execute_result"
    }
   ],
   "source": [
    "# Define your data directory containing superhero class folder\n",
    "data_dir = \"D:\\Git\\HeroClassifier\\Images\"\n",
    "\n",
    "# Initialize empty lists to store image paths and labels\n",
    "images = []\n",
    "labels = []\n",
    "\n",
    "# Iterate through each superhero folder\n",
    "for class_dir in os.listdir(data_dir):\n",
    "    class_path = os.path.join(data_dir, class_dir)\n",
    "    \n",
    "    # Iterate through all images in the each folders\n",
    "    for filename in os.listdir(class_path):\n",
    "        image_path = os.path.join(class_path, filename)\n",
    "        images.append(image_path)\n",
    "        labels.append(class_dir)\n",
    "        \n",
    "Counter(labels)        "
   ]
  },
  {
   "cell_type": "markdown",
   "id": "ee9890a1",
   "metadata": {},
   "source": [
    "#### Train Test Split (Train,Validation,Test = 70,10,20) "
   ]
  },
  {
   "cell_type": "code",
   "execution_count": 27,
   "id": "d22e7b00",
   "metadata": {},
   "outputs": [],
   "source": [
    "test_size = 0.2\n",
    "val_size = 0.1\n",
    "\n",
    "# Split data into training, validation, and test sets\n",
    "X_train, X_test, y_train, y_test = train_test_split(images, labels, test_size=test_size, random_state=8980)\n",
    "X_train, X_val, y_train, y_val = train_test_split(X_train, y_train, test_size=val_size, random_state=8980)"
   ]
  },
  {
   "cell_type": "code",
   "execution_count": 28,
   "id": "79b61252",
   "metadata": {},
   "outputs": [
    {
     "data": {
      "text/plain": [
       "Counter({'Captain America': 117,\n",
       "         'Batman': 108,\n",
       "         'Wonder Woman': 107,\n",
       "         'Black Panther': 107,\n",
       "         'Spiderman': 112,\n",
       "         'Iron Man': 106,\n",
       "         'Black Widow': 113,\n",
       "         'The Flash': 113,\n",
       "         'Superman': 118,\n",
       "         'Hulk': 111})"
      ]
     },
     "execution_count": 28,
     "metadata": {},
     "output_type": "execute_result"
    }
   ],
   "source": [
    "Counter(y_train)"
   ]
  },
  {
   "cell_type": "markdown",
   "id": "c42b02a6",
   "metadata": {},
   "source": [
    "#### Data Preprocessing"
   ]
  },
  {
   "cell_type": "code",
   "execution_count": 29,
   "id": "d1ce3984",
   "metadata": {},
   "outputs": [],
   "source": [
    "def preprocess_image(img_path, img_size):\n",
    "    img = tf.keras.preprocessing.image.load_img(img_path, target_size=img_size)\n",
    "    img_array = tf.keras.preprocessing.image.img_to_array(img)\n",
    "    img_array = tf.keras.applications.vgg16.preprocess_input(img_array)\n",
    "    return img_array"
   ]
  },
  {
   "cell_type": "code",
   "execution_count": 30,
   "id": "8280ec1e",
   "metadata": {},
   "outputs": [],
   "source": [
    "img_size = (224, 224) \n",
    "\n",
    "X_train_processed = [preprocess_image(img, img_size) for img in X_train]\n",
    "X_val_processed = [preprocess_image(img, img_size) for img in X_val]\n",
    "X_test_processed = [preprocess_image(img, img_size) for img in X_test]"
   ]
  },
  {
   "cell_type": "code",
   "execution_count": 31,
   "id": "93eceae3",
   "metadata": {},
   "outputs": [],
   "source": [
    "# One hot encoding\n",
    "\n",
    "label_mapping = {label: idx for idx, label in enumerate(set(labels))}\n",
    "num_classes = len(label_mapping)\n",
    "\n",
    "y_train_encoded = tf.keras.utils.to_categorical([label_mapping[label] for label in y_train], num_classes=num_classes)\n",
    "y_val_encoded = tf.keras.utils.to_categorical([label_mapping[label] for label in y_val], num_classes=num_classes)\n",
    "y_test_encoded = tf.keras.utils.to_categorical([label_mapping[label] for label in y_test], num_classes=num_classes)"
   ]
  },
  {
   "cell_type": "markdown",
   "id": "25b893bf",
   "metadata": {},
   "source": [
    "#### Transfer Learning - selecting VGG16 as base model"
   ]
  },
  {
   "cell_type": "code",
   "execution_count": 32,
   "id": "c38af4b4",
   "metadata": {},
   "outputs": [],
   "source": [
    "base_model = VGG16(weights='imagenet', include_top=False, input_shape=(224, 224, 3))"
   ]
  },
  {
   "cell_type": "markdown",
   "id": "25faa670",
   "metadata": {},
   "source": [
    "#### CNN model using VGG16, ReLU, Dropout, Adam"
   ]
  },
  {
   "cell_type": "code",
   "execution_count": 33,
   "id": "732d74f5",
   "metadata": {},
   "outputs": [],
   "source": [
    "# Model over VGG16\n",
    "model = models.Sequential()\n",
    "model.add(base_model)  # VGG16 trained on imagenet as base\n",
    "model.add(layers.Flatten()) \n",
    "model.add(layers.Dense(512, activation='relu')) # Activation: ReLU\n",
    "model.add(BatchNormalization())                 # BatchNormalization\n",
    "model.add(layers.Dropout(0.5))                  # Dropout 50%\n",
    "model.add(layers.Dense(num_classes, activation='softmax')) # Softmax for multiclass classification"
   ]
  },
  {
   "cell_type": "code",
   "execution_count": 39,
   "id": "c4bce0ad",
   "metadata": {},
   "outputs": [],
   "source": [
    "# Load saved weights\n",
    "model.load_weights('superhero_classifier_model_3.h5')  "
   ]
  },
  {
   "cell_type": "code",
   "execution_count": 35,
   "id": "7d8e928f",
   "metadata": {},
   "outputs": [],
   "source": [
    "# Loss function: Crossentropy, Optimizer: Adam\n",
    "model.compile(optimizer=Adam(learning_rate=0.0001), loss='categorical_crossentropy', metrics=['accuracy'])"
   ]
  },
  {
   "cell_type": "markdown",
   "id": "16832126",
   "metadata": {},
   "source": [
    "#### Data Augmentation"
   ]
  },
  {
   "cell_type": "code",
   "execution_count": 36,
   "id": "61916019",
   "metadata": {},
   "outputs": [],
   "source": [
    "# Data Augmentation for the training data\n",
    "train_datagen = ImageDataGenerator(rotation_range=20, \n",
    "                                   width_shift_range=0.2, \n",
    "                                   height_shift_range=0.2, \n",
    "                                   shear_range=0.2, \n",
    "                                   zoom_range=0.2, \n",
    "                                   horizontal_flip=True)\n",
    "\n",
    "train_generator = train_datagen.flow(np.array(X_train_processed), y_train_encoded, batch_size=32)"
   ]
  },
  {
   "cell_type": "code",
   "execution_count": 37,
   "id": "c09540f2",
   "metadata": {
    "scrolled": true
   },
   "outputs": [
    {
     "name": "stdout",
     "output_type": "stream",
     "text": [
      "Epoch 1/5\n",
      "34/34 [==============================] - 367s 11s/step - loss: 0.1584 - accuracy: 0.9444 - val_loss: 1.2843 - val_accuracy: 0.7581\n",
      "Epoch 2/5\n",
      "34/34 [==============================] - 458s 13s/step - loss: 0.1162 - accuracy: 0.9713 - val_loss: 0.9398 - val_accuracy: 0.8145\n",
      "Epoch 3/5\n",
      "34/34 [==============================] - 424s 12s/step - loss: 0.1200 - accuracy: 0.9651 - val_loss: 1.3532 - val_accuracy: 0.7581\n",
      "Epoch 4/5\n",
      "34/34 [==============================] - 380s 11s/step - loss: 0.1145 - accuracy: 0.9574 - val_loss: 1.2641 - val_accuracy: 0.7823\n",
      "Epoch 5/5\n",
      "34/34 [==============================] - 369s 11s/step - loss: 0.1298 - accuracy: 0.9574 - val_loss: 0.7877 - val_accuracy: 0.8306\n"
     ]
    }
   ],
   "source": [
    "epochs = 5\n",
    "batch_size = 32\n",
    "\n",
    "# Early stopping to avoid overfitting\n",
    "early_stopping = EarlyStopping(monitor='val_loss', patience=5, restore_best_weights=True)\n",
    "\n",
    "history = model.fit(train_generator\n",
    "                    ,steps_per_epoch=len(X_train_processed)//batch_size\n",
    "                    ,epochs=epochs\n",
    "                    ,validation_data=(np.array(X_val_processed), y_val_encoded)\n",
    "                    ,callbacks=[early_stopping]\n",
    "                   )"
   ]
  },
  {
   "cell_type": "code",
   "execution_count": 40,
   "id": "85e66a5f",
   "metadata": {},
   "outputs": [
    {
     "name": "stdout",
     "output_type": "stream",
     "text": [
      "10/10 [==============================] - 21s 2s/step - loss: 0.4947 - accuracy: 0.8867\n",
      "Test Accuracy: 0.8867313861846924\n"
     ]
    }
   ],
   "source": [
    "# Evaluation Matrices\n",
    "test_loss, test_acc = model.evaluate(np.array(X_test_processed), y_test_encoded)\n",
    "print(f\"Test Accuracy: {test_acc}\")"
   ]
  },
  {
   "cell_type": "code",
   "execution_count": 22,
   "id": "bff3df06",
   "metadata": {},
   "outputs": [],
   "source": [
    "# Save the model for deployment if required\n",
    "model.save(\"superhero_classifier_model_3.h5\")"
   ]
  },
  {
   "cell_type": "code",
   "execution_count": null,
   "id": "e2b12abe",
   "metadata": {},
   "outputs": [],
   "source": [
    "# superhero_classifier_model_2 - 78.64 Test\n",
    "# superhero_classifier_model_3 - 88.67 Test"
   ]
  }
 ],
 "metadata": {
  "kernelspec": {
   "display_name": "Python 3 (ipykernel)",
   "language": "python",
   "name": "python3"
  },
  "language_info": {
   "codemirror_mode": {
    "name": "ipython",
    "version": 3
   },
   "file_extension": ".py",
   "mimetype": "text/x-python",
   "name": "python",
   "nbconvert_exporter": "python",
   "pygments_lexer": "ipython3",
   "version": "3.9.13"
  }
 },
 "nbformat": 4,
 "nbformat_minor": 5
}
